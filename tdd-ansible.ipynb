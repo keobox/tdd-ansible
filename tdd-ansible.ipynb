{
 "cells": [
  {
   "cell_type": "markdown",
   "id": "597f7351",
   "metadata": {
    "slideshow": {
     "slide_type": "slide"
    }
   },
   "source": [
    "# TDD with Ansible"
   ]
  },
  {
   "cell_type": "markdown",
   "id": "5ac75382",
   "metadata": {
    "slideshow": {
     "slide_type": "slide"
    }
   },
   "source": [
    "# Topics\n",
    "\n",
    "* What is TDD?\n",
    "* What is Ansible?\n",
    "* Why TDD with Ansible?\n",
    "* What is Molecule?\n",
    "* DEMO 🙀"
   ]
  },
  {
   "cell_type": "markdown",
   "id": "aece3e2b",
   "metadata": {
    "slideshow": {
     "slide_type": "slide"
    }
   },
   "source": [
    "# What is TDD?"
   ]
  },
  {
   "cell_type": "markdown",
   "id": "f87f667f",
   "metadata": {
    "slideshow": {
     "slide_type": "subslide"
    }
   },
   "source": [
    "![tdd-cycle](img/tdd-cycle.png)"
   ]
  },
  {
   "cell_type": "markdown",
   "id": "98257cb9",
   "metadata": {
    "slideshow": {
     "slide_type": "subslide"
    }
   },
   "source": [
    "The very core concepts are to set expectations on the code your're gonna write before writing it and improve it in a **fast feedback loop**"
   ]
  },
  {
   "cell_type": "markdown",
   "id": "a7863aaf",
   "metadata": {
    "slideshow": {
     "slide_type": "slide"
    }
   },
   "source": [
    "# What is Ansible?"
   ]
  },
  {
   "cell_type": "markdown",
   "id": "179ca074",
   "metadata": {
    "slideshow": {
     "slide_type": "subslide"
    }
   },
   "source": [
    "A tool for doing this:\n",
    "* Orchestration\n",
    "* Configuration Management\n",
    "* Application Deployment\n",
    "* Provisioning\n",
    "* Continuos Delivery\n",
    "* Security Compliance"
   ]
  },
  {
   "cell_type": "markdown",
   "id": "e2ea850d",
   "metadata": {
    "slideshow": {
     "slide_type": "subslide"
    }
   },
   "source": [
    "On one or more of these:\n",
    "* Firewall\n",
    "* Load Balancers\n",
    "* Applications\n",
    "* Containers\n",
    "* Clouds\n",
    "* Servers\n",
    "* Infrastructure\n",
    "* Storage\n",
    "* Network Devices"
   ]
  },
  {
   "cell_type": "markdown",
   "id": "9de4658e",
   "metadata": {
    "slideshow": {
     "slide_type": "subslide"
    }
   },
   "source": [
    "The only requirement on the target devices is having Python installed."
   ]
  },
  {
   "cell_type": "markdown",
   "id": "07486758",
   "metadata": {
    "slideshow": {
     "slide_type": "subslide"
    }
   },
   "source": [
    "![Ansible Platform](img/platform.png)"
   ]
  },
  {
   "cell_type": "markdown",
   "id": "36871619",
   "metadata": {
    "slideshow": {
     "slide_type": "subslide"
    }
   },
   "source": [
    "# Ansible Core is usable and open source\n",
    "\n",
    "`pip install ansible`"
   ]
  },
  {
   "cell_type": "markdown",
   "id": "5374c5b6",
   "metadata": {
    "slideshow": {
     "slide_type": "subslide"
    }
   },
   "source": [
    "# Ansible Primer\n",
    "* The inventory is a file containing your device fleet\n",
    "* Any device with Python installed can be managed\n",
    "* Your devices are separated from the automation \"scripts\" called **Playbooks**\n",
    "* A **Role** it's a way to write a sort of reusable **playbook**\n"
   ]
  },
  {
   "cell_type": "markdown",
   "id": "ea3c679d",
   "metadata": {
    "slideshow": {
     "slide_type": "subslide"
    }
   },
   "source": [
    "# Extend Ansible\n",
    "* Ansible capabilities can be extended using Python: by writing an Ansible's Module\n",
    "* **Roles** and **Playbooks** can be packed and distributed as **Ansible Collections**"
   ]
  },
  {
   "cell_type": "markdown",
   "id": "93c9f0fa",
   "metadata": {
    "slideshow": {
     "slide_type": "subslide"
    }
   },
   "source": [
    "# Basic commands\n",
    "\n",
    "* `ansible-playbook -i inventory playbook.yml`\n",
    "* `ansible-galaxy collection install -vr requirements.yml`\n",
    "\n",
    "An example of `requirements.yml`\n",
    "```yaml\n",
    "collections:\n",
    "  - community.general\n",
    "  - name: kubernetes.core\n",
    "    version: \"==2.4.0\"\n",
    "  - containers.podman\n",
    "  ```"
   ]
  },
  {
   "cell_type": "markdown",
   "id": "6f787a23",
   "metadata": {
    "slideshow": {
     "slide_type": "slide"
    }
   },
   "source": [
    "# Why TDD in Ansible?"
   ]
  },
  {
   "cell_type": "markdown",
   "id": "e875d9a8",
   "metadata": {
    "slideshow": {
     "slide_type": "fragment"
    }
   },
   "source": [
    "*I'm not a great programmer; I'm just a good programmer with great habits* \n",
    "\n",
    "Ken Beck."
   ]
  },
  {
   "cell_type": "markdown",
   "id": "d2a259bb",
   "metadata": {
    "slideshow": {
     "slide_type": "subslide"
    }
   },
   "source": [
    "# Are Ansible playbooks code?\n",
    "\n",
    "No, but they can be developed using the same *great habits*.\n",
    "\n",
    "We still need **fast feedback loops**.\n",
    "\n",
    "We really need **disposable sandboxes** for testing."
   ]
  },
  {
   "cell_type": "markdown",
   "id": "4d389638",
   "metadata": {
    "slideshow": {
     "slide_type": "subslide"
    }
   },
   "source": [
    "We also need to **protect against regression** in our playbooks.\n",
    "\n",
    "Specifically:\n",
    "* State messed up by previous playbook executions\n",
    "* Task clobbering the state set by previous tasks\n",
    "* Task silently failing or not working as intended\n",
    "* Non-idempotent tasks.\n",
    "\n",
    "Idempontency: do not redo stuff already done before so that a \"script\" can be invoked many time without harm."
   ]
  },
  {
   "cell_type": "markdown",
   "id": "878055cd",
   "metadata": {
    "slideshow": {
     "slide_type": "slide"
    }
   },
   "source": [
    "# What is Molecule?"
   ]
  },
  {
   "cell_type": "markdown",
   "id": "cd5ac6d0",
   "metadata": {
    "slideshow": {
     "slide_type": "subslide"
    }
   },
   "source": [
    "It's a simple but powerful testing framework for Ansible\n",
    "\n",
    "It provides:\n",
    "* CLI command for testing a \"Scenario\"\n",
    "* Scaffolding commands to write a Scenario\n",
    "\n",
    "Scenarios:\n",
    "* Are configurations and entry points (playbooks) to test **Roles** and **Collections**"
   ]
  },
  {
   "cell_type": "markdown",
   "id": "e50e1140",
   "metadata": {
    "slideshow": {
     "slide_type": "subslide"
    }
   },
   "source": [
    "```tree\n",
    "roles/common_stuff\n",
    "├── defaults\n",
    "├── files\n",
    "├── handlers\n",
    "├── meta\n",
    "├── molecule\n",
    "│   └── common_stuff_unit_test\n",
    "│       ├── converge.yml\n",
    "│       ├── molecule.yml\n",
    "│       └── verify.yml\n",
    "├── tasks\n",
    "```"
   ]
  },
  {
   "cell_type": "markdown",
   "id": "cf082f0b",
   "metadata": {
    "slideshow": {
     "slide_type": "subslide"
    }
   },
   "source": [
    "The previous directory structure is a **Role**.\n",
    "\n",
    "**By convention** `ansible-playbook` expects this.\n",
    "\n",
    "The entry point is `roles/common_stuff/tasks/main.yml`"
   ]
  },
  {
   "cell_type": "markdown",
   "id": "6a8d3546",
   "metadata": {
    "slideshow": {
     "slide_type": "subslide"
    }
   },
   "source": [
    "# Molecule file"
   ]
  },
  {
   "cell_type": "markdown",
   "id": "affe43e8",
   "metadata": {
    "slideshow": {
     "slide_type": "subslide"
    }
   },
   "source": [
    "```yaml\n",
    "dependency:\n",
    "  name: galaxy\n",
    "driver:\n",
    "  name: podman\n",
    "platforms:\n",
    "  - name: instance\n",
    "    image: quay.io/centos/centos:stream8\n",
    "    pre_build_image: true\n",
    "provisioner:\n",
    "  name: ansible\n",
    "verifier:\n",
    "  name: ansible\n",
    "```"
   ]
  },
  {
   "cell_type": "markdown",
   "id": "84a78b3c",
   "metadata": {
    "slideshow": {
     "slide_type": "subslide"
    }
   },
   "source": [
    "# Converge file"
   ]
  },
  {
   "cell_type": "markdown",
   "id": "da4eece0",
   "metadata": {
    "slideshow": {
     "slide_type": "subslide"
    }
   },
   "source": [
    "```yaml\n",
    "- name: Converge\n",
    "  hosts: all\n",
    "  tasks:\n",
    "    - name: \"Unit test converge\"\n",
    "      ansible.builtin.debug:\n",
    "        msg: \"This role can have unit tests since has not dependencies.\"\n",
    "    - name: \"Include tme.common_stuff\"\n",
    "      ansible.builtin.include_role:\n",
    "        name: \"tme.common_stuff\"\n",
    "```"
   ]
  },
  {
   "cell_type": "markdown",
   "id": "63cf6928",
   "metadata": {
    "slideshow": {
     "slide_type": "slide"
    }
   },
   "source": [
    "# Verify file"
   ]
  },
  {
   "cell_type": "markdown",
   "id": "2ab9b2f0",
   "metadata": {
    "slideshow": {
     "slide_type": "subslide"
    }
   },
   "source": [
    "```yaml\n",
    "- name: Verify\n",
    "  hosts: all\n",
    "  gather_facts: false\n",
    "  tasks:\n",
    "  - name: \"Is file present\"\n",
    "    stat:\n",
    "      path: /tmp/common.txt\n",
    "    register: st\n",
    "  - name: \"Example assertion: check the file existence\"\n",
    "    assert:\n",
    "      that: st.stat.exists\n",
    "```"
   ]
  },
  {
   "cell_type": "markdown",
   "id": "a05f1fb6",
   "metadata": {
    "slideshow": {
     "slide_type": "slide"
    }
   },
   "source": [
    "# DEMO\n",
    "\n",
    "https://github.com/keobox/test_molecule_monorepo/tree/upgrade"
   ]
  },
  {
   "cell_type": "markdown",
   "id": "ec287166",
   "metadata": {
    "slideshow": {
     "slide_type": "slide"
    }
   },
   "source": [
    "# Take home"
   ]
  },
  {
   "cell_type": "markdown",
   "id": "1f7f899d",
   "metadata": {},
   "source": [
    "With Molecule you can\n",
    "\n",
    "* Write unit tests for a Role\n",
    "* Write integrations tests for many Roles\n",
    "* Check idempotency"
   ]
  },
  {
   "cell_type": "markdown",
   "id": "8cfea2fa",
   "metadata": {
    "slideshow": {
     "slide_type": "subslide"
    }
   },
   "source": [
    "### Basic TDD cycle\n",
    "\n",
    "* molecule list\n",
    "* molecule create -s my_scenario\n",
    "* **write test code in verify.yml**\n",
    "* molecule verify -s my_scenario <span style=\"color:red\">**TEST FAIL**</span>\n",
    "* **write code in roles**\n",
    "* include roles in converge.yml\n",
    "* molecule converge -s my_scenario\n",
    "* molecule verify -s my_scenario <span style=\"color:green\">**TEST PASS**</span>"
   ]
  },
  {
   "cell_type": "markdown",
   "id": "a47600cb",
   "metadata": {
    "slideshow": {
     "slide_type": "subslide"
    }
   },
   "source": [
    "### Idempotency checks\n",
    "\n",
    "* molecule list\n",
    "* molecule test -s my_scenario\n",
    "\n",
    "By default **test** is equal to **destroy, create, converge, verify + idempotency check**.\n",
    "\n",
    "In our toy project the file should not be created if is already created.\n",
    "\n",
    "**NOTE: \"molecule test\" start a fresh container and I use it as Idempotency and Regression test after the TDD cycle**"
   ]
  },
  {
   "cell_type": "markdown",
   "id": "0dacec2a",
   "metadata": {
    "slideshow": {
     "slide_type": "subslide"
    }
   },
   "source": [
    "A useful trick for integration testing of multiple roles in a repository:\n",
    "\n",
    "In `molecule/my_scenario/molecule.yml`\n",
    "\n",
    "```yaml\n",
    "provisioner:\n",
    "  name: ansible\n",
    "  log: true\n",
    "  env:\n",
    "    ANSIBLE_ROLES_PATH: \"../../roles\"\n",
    "```"
   ]
  },
  {
   "cell_type": "markdown",
   "id": "3725c813",
   "metadata": {
    "slideshow": {
     "slide_type": "slide"
    }
   },
   "source": [
    "# What if my code is in a Collection?"
   ]
  },
  {
   "cell_type": "markdown",
   "id": "ca3d88be",
   "metadata": {
    "slideshow": {
     "slide_type": "subslide"
    }
   },
   "source": [
    "In this case is not necessary to to add `ANSIBLE_ROLES_PATH` in `molecule/my_scenario/molecule.yml` but the TDD cycle is slightly different."
   ]
  },
  {
   "cell_type": "markdown",
   "id": "7cab40e8",
   "metadata": {
    "slideshow": {
     "slide_type": "subslide"
    }
   },
   "source": [
    "### TDD cycle for collection.\n",
    "\n",
    "* molecule list\n",
    "* molecule create -s my_scenario\n",
    "* **write test code in verify.yml**\n",
    "* molecule verify -s my_scenario <span style=\"color:red\">**TEST FAIL**</span>\n",
    "* **write code in roles**\n",
    "* <span style=\"color:blue\">**ansible-galaxy collection install . --force**</span>\n",
    "* <span style=\"color:blue\">include **Roles** from **Collection** in converge.yml</span>\n",
    "* molecule converge -s my_scenario\n",
    "* molecule verify -s my_scenario <span style=\"color:green\">**TEST PASS**</span>"
   ]
  },
  {
   "cell_type": "markdown",
   "id": "d8dc02c5",
   "metadata": {
    "slideshow": {
     "slide_type": "slide"
    }
   },
   "source": [
    "# And that's it!\n",
    "\n",
    "Cesare Placanica\n",
    "\n",
    "Senior Software Engineer @ RedHat"
   ]
  }
 ],
 "metadata": {
  "celltoolbar": "Slideshow",
  "kernelspec": {
   "display_name": "Python 3 (ipykernel)",
   "language": "python",
   "name": "python3"
  },
  "language_info": {
   "codemirror_mode": {
    "name": "ipython",
    "version": 3
   },
   "file_extension": ".py",
   "mimetype": "text/x-python",
   "name": "python",
   "nbconvert_exporter": "python",
   "pygments_lexer": "ipython3",
   "version": "3.8.12"
  },
  "rise": {
   "theme": "sky"
  }
 },
 "nbformat": 4,
 "nbformat_minor": 5
}
